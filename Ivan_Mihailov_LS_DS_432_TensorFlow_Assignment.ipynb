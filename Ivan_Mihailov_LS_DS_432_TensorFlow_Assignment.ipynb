{
  "nbformat": 4,
  "nbformat_minor": 0,
  "metadata": {
    "colab": {
      "name": "Ivan_Mihailov_LS_DS_432_TensorFlow_Assignment",
      "provenance": [],
      "collapsed_sections": []
    },
    "kernelspec": {
      "display_name": "Python 3",
      "language": "python",
      "name": "python3"
    },
    "language_info": {
      "codemirror_mode": {
        "name": "ipython",
        "version": 3
      },
      "file_extension": ".py",
      "mimetype": "text/x-python",
      "name": "python",
      "nbconvert_exporter": "python",
      "pygments_lexer": "ipython3",
      "version": "3.8.5"
    },
    "accelerator": "GPU"
  },
  "cells": [
    {
      "cell_type": "markdown",
      "metadata": {
        "id": "ObyHCH8HvHSf"
      },
      "source": [
        "\n",
        "# *Data Science Unit 4 Sprint 2 Assignment 1*\n",
        "\n",
        "Use TensorFlow Keras & a sample of the [Quickdraw dataset](https://github.com/googlecreativelab/quickdraw-dataset) to build a sketch classification model. The dataset has been sampled to only 10 classes and 10000 observations per class. \n",
        "\n",
        "### Objective\n",
        "\n",
        "- Build a baseline classification model then run a few experiments with different optimizers and learning rates. \n",
        "- Don't forgot to [**switch to GPU on if you're running your notebook on Colab!**](https://colab.research.google.com/notebooks/gpu.ipynb)"
      ]
    },
    {
      "cell_type": "markdown",
      "metadata": {
        "id": "s-Tc3ovEyQ9b"
      },
      "source": [
        "## Load Your Data"
      ]
    },
    {
      "cell_type": "code",
      "metadata": {
        "id": "CkU0pAYCvU8o"
      },
      "source": [
        "# imports in first cell \n",
        "import seaborn as sns\n",
        "import pandas as pd\n",
        "import numpy as np\n",
        "import tensorflow as tf \n",
        "import matplotlib.pyplot as plt\n",
        "from sklearn.utils import shuffle\n",
        "\n",
        "# use Sequential to build out your model\n",
        "from tensorflow.keras.models import Sequential\n",
        "\n",
        "# Dense layer is used for Fully Connected Forward Feeding networks\n",
        "from tensorflow.keras.layers import Dense"
      ],
      "execution_count": 64,
      "outputs": []
    },
    {
      "cell_type": "code",
      "metadata": {
        "id": "N3glEaBsfATS",
        "colab": {
          "base_uri": "https://localhost:8080/"
        },
        "outputId": "64cce0c2-7253-44a0-df94-ab1f8c2e8d21"
      },
      "source": [
        "# load in data set\n",
        "data = np.load('/content/quickdraw10.npz')\n",
        "X = data['arr_0']\n",
        "y = data['arr_1']\n",
        "\n",
        "print(X.shape)\n",
        "print(y.shape)"
      ],
      "execution_count": 65,
      "outputs": [
        {
          "output_type": "stream",
          "text": [
            "(100000, 784)\n",
            "(100000,)\n"
          ],
          "name": "stdout"
        }
      ]
    },
    {
      "cell_type": "code",
      "metadata": {
        "id": "c8qsDqdqvHDd"
      },
      "source": [
        "class_names = ['apple',\n",
        "             'anvil',\n",
        "             'airplane',\n",
        "             'banana',\n",
        "             'The Eiffel Tower',\n",
        "             'The Mona Lisa',\n",
        "             'The Great Wall of China',\n",
        "             'alarm clock',\n",
        "             'ant',\n",
        "             'asparagus']"
      ],
      "execution_count": 66,
      "outputs": []
    },
    {
      "cell_type": "code",
      "metadata": {
        "id": "Owbm1EbxvA5A",
        "colab": {
          "base_uri": "https://localhost:8080/",
          "height": 289
        },
        "outputId": "50c560e8-c716-4775-9c15-9e1a5e925886"
      },
      "source": [
        "# these are your 10 unique images\n",
        "plt.figure(figsize=(10,5))\n",
        "start = 0\n",
        "\n",
        "for num, name in enumerate(class_names):\n",
        "    plt.subplot(2,5, num+1)\n",
        "    plt.xticks([])\n",
        "    plt.yticks([])\n",
        "    plt.grid(False)\n",
        "    plt.imshow(X[start].reshape(28,28), cmap=plt.cm.binary)\n",
        "    plt.xlabel(name)\n",
        "    start += 10000\n",
        "plt.show()"
      ],
      "execution_count": 67,
      "outputs": [
        {
          "output_type": "display_data",
          "data": {
            "image/png": "[encoded data removed]",
            "text/plain": [
              "<Figure size 720x360 with 10 Axes>"
            ]
          },
          "metadata": {
            "tags": []
          }
        }
      ]
    },
    {
      "cell_type": "markdown",
      "metadata": {
        "id": "-ZQ12-DhfATV"
      },
      "source": [
        "Say hello to the Quickdraw dataset. \n",
        "\n",
        "You'll be using this dataset a lot this week as an alternative to the mnist which we'll be using in the guided projects. The nice thing about this dataset is that it's simple, which allows us to focus on our model, it's various components, and gradually coming to a better understand of how to build neural networks without worrying about cleaning and preping our image data too much. "
      ]
    },
    {
      "cell_type": "code",
      "metadata": {
        "id": "c97_M1WNvTNY"
      },
      "source": [
        "# always a good idea to shuffle your dataset \n",
        "X, y = shuffle(X, y)"
      ],
      "execution_count": 68,
      "outputs": []
    },
    {
      "cell_type": "markdown",
      "metadata": {
        "id": "jb70CbLVyK65"
      },
      "source": [
        "-----\n",
        "\n",
        "## Build Your Baseline Model\n",
        "\n",
        "Make sure that you\n",
        "\n",
        "- **Determine** the dimensionality of your input data by investigating **X**\n",
        "- **Normalize** your input data to values between 0 and 1 \n",
        "- **Determine** the number of neurons in your output layer by investigating **Y**\n",
        "- **Select** `sparse_categorical_crossentropy` as your loss function.\n",
        "- **Select** `sgd` as your optimizer.\n",
        "- **Add** 3 hidden layers to your model with the following number of nodes\n",
        "    - h1 has 500 nodes\n",
        "    - h2 has 250 nodes\n",
        "    - h3 has 100 nodes\n",
        "    \n",
        "- **Set** epochs to 20 \n",
        "- **Use** the `validation_split` command to automatically create a training / validation dataset from within the model, so you don't have to do it yourself.\n",
        "    -  Specify a percentage such as .2 in your fit statement.\n",
        " \n",
        " \n",
        "Not sure what the various parameters are for or what what values to assign to them?\n",
        "\n",
        "- Reference the guided project notebook for Sprint 2 Module 1\n",
        "- Reference the [**Keras documentation**](https://keras.io/api/)\n",
        "- Google other examples\n",
        "- Discuss your results with classmates "
      ]
    },
    {
      "cell_type": "code",
      "metadata": {
        "deletable": false,
        "nbgrader": {
          "cell_type": "code",
          "checksum": "ef20dd34df6998e0a50e394d59d58659",
          "grade": false,
          "grade_id": "cell-907b9348d7a2ebb3",
          "locked": false,
          "schema_version": 3,
          "solution": true,
          "task": false
        },
        "id": "S4RdIjFVfATY"
      },
      "source": [
        "# get dim of image row vectors and save to input_dim\n",
        "input_dim = X.shape[1]\n",
        "# get number of unique labels and save to n_output_nodels\n",
        "n_output_nodels = len(class_names)\n",
        "# normalize image data to values between 0 and 1 (by dividing by max pixel value)\n",
        "max_value = 255\n",
        "X_scaled = X.astype('float32') / max_value"
      ],
      "execution_count": 69,
      "outputs": []
    },
    {
      "cell_type": "code",
      "metadata": {
        "id": "KWT22zg2fATZ"
      },
      "source": [
        "# a check on your data prep \n",
        "assert  X_scaled.max(), \"Max pixel value should be 1.0, make sure you normalize your data\""
      ],
      "execution_count": 70,
      "outputs": []
    },
    {
      "cell_type": "code",
      "metadata": {
        "deletable": false,
        "id": "zHWblzsMyNkU",
        "nbgrader": {
          "cell_type": "code",
          "checksum": "f0ba174cb72f491f73c3aa7df8ae7ac4",
          "grade": false,
          "grade_id": "cell-b7c96fc46d86725f",
          "locked": false,
          "schema_version": 3,
          "solution": true,
          "task": false
        }
      },
      "source": [
        "# instantiate a sequential object and call it model, then add layers to your model\n",
        "model = Sequential()\n",
        "# Hidden layer # 1\n",
        "model.add(Dense(500, activation='relu', input_dim=input_dim))\n",
        "# Hidden layer # 2\n",
        "model.add(Dense(250, activation='relu'))\n",
        "# Hidden layer # 3\n",
        "model.add(Dense(100, activation='relu'))\n",
        "# Output layer\n",
        "model.add(Dense(10, activation='softmax'))\n",
        "\n",
        "# add a compile layer but don't fit your model yet \n",
        "model.compile(optimizer='sgd', loss='sparse_categorical_crossentropy',\n",
        "              metrics='accuracy')"
      ],
      "execution_count": 71,
      "outputs": []
    },
    {
      "cell_type": "code",
      "metadata": {
        "id": "OgcXqYhifATa"
      },
      "source": [
        "# a check on your model architecture \n",
        "n_layers = len(model.get_config()[\"layers\"])\n",
        "assert n_layers == 5, \"You should have 5 layers: input, h1, h2, h3, and output\""
      ],
      "execution_count": 72,
      "outputs": []
    },
    {
      "cell_type": "code",
      "metadata": {
        "id": "tBvajTpPfATb",
        "colab": {
          "base_uri": "https://localhost:8080/"
        },
        "outputId": "f315f080-fd1f-4ddc-e7db-51fe803de636"
      },
      "source": [
        "# check out your model summary \n",
        "model.summary()"
      ],
      "execution_count": 73,
      "outputs": [
        {
          "output_type": "stream",
          "text": [
            "Model: \"sequential_1\"\n",
            "_________________________________________________________________\n",
            "Layer (type)                 Output Shape              Param #   \n",
            "=================================================================\n",
            "dense_4 (Dense)              (None, 500)               392500    \n",
            "_________________________________________________________________\n",
            "dense_5 (Dense)              (None, 250)               125250    \n",
            "_________________________________________________________________\n",
            "dense_6 (Dense)              (None, 100)               25100     \n",
            "_________________________________________________________________\n",
            "dense_7 (Dense)              (None, 10)                1010      \n",
            "=================================================================\n",
            "Total params: 543,860\n",
            "Trainable params: 543,860\n",
            "Non-trainable params: 0\n",
            "_________________________________________________________________\n"
          ],
          "name": "stdout"
        }
      ]
    },
    {
      "cell_type": "code",
      "metadata": {
        "id": "Gd6Kl7MlfATb",
        "colab": {
          "base_uri": "https://localhost:8080/"
        },
        "outputId": "8d76f933-cb2f-4ef6-c8bf-23c6fcd6645c"
      },
      "source": [
        "epochs = 20\n",
        "# fit your model and save training resuts to history \n",
        "history = model.fit(X_scaled, y, \n",
        "                    epochs=epochs, \n",
        "                    # test set will be generated within the model\n",
        "                    validation_split=0.2\n",
        "                   )"
      ],
      "execution_count": 74,
      "outputs": [
        {
          "output_type": "stream",
          "text": [
            "Epoch 1/20\n",
            "2500/2500 [==============================] - 7s 3ms/step - loss: 0.9608 - accuracy: 0.7149 - val_loss: 0.7262 - val_accuracy: 0.7879\n",
            "Epoch 2/20\n",
            "2500/2500 [==============================] - 6s 3ms/step - loss: 0.6512 - accuracy: 0.8103 - val_loss: 0.6128 - val_accuracy: 0.8195\n",
            "Epoch 3/20\n",
            "2500/2500 [==============================] - 6s 2ms/step - loss: 0.5562 - accuracy: 0.8353 - val_loss: 0.5573 - val_accuracy: 0.8325\n",
            "Epoch 4/20\n",
            "2500/2500 [==============================] - 6s 2ms/step - loss: 0.4948 - accuracy: 0.8551 - val_loss: 0.5132 - val_accuracy: 0.8461\n",
            "Epoch 5/20\n",
            "2500/2500 [==============================] - 6s 2ms/step - loss: 0.4468 - accuracy: 0.8689 - val_loss: 0.4896 - val_accuracy: 0.8554\n",
            "Epoch 6/20\n",
            "2500/2500 [==============================] - 6s 2ms/step - loss: 0.4077 - accuracy: 0.8804 - val_loss: 0.4864 - val_accuracy: 0.8573\n",
            "Epoch 7/20\n",
            "2500/2500 [==============================] - 5s 2ms/step - loss: 0.3755 - accuracy: 0.8906 - val_loss: 0.4609 - val_accuracy: 0.8633\n",
            "Epoch 8/20\n",
            "2500/2500 [==============================] - 6s 2ms/step - loss: 0.3468 - accuracy: 0.8981 - val_loss: 0.4484 - val_accuracy: 0.8697\n",
            "Epoch 9/20\n",
            "2500/2500 [==============================] - 6s 2ms/step - loss: 0.3219 - accuracy: 0.9056 - val_loss: 0.4413 - val_accuracy: 0.8714\n",
            "Epoch 10/20\n",
            "2500/2500 [==============================] - 6s 2ms/step - loss: 0.2966 - accuracy: 0.9141 - val_loss: 0.4376 - val_accuracy: 0.8720\n",
            "Epoch 11/20\n",
            "2500/2500 [==============================] - 6s 2ms/step - loss: 0.2748 - accuracy: 0.9193 - val_loss: 0.4494 - val_accuracy: 0.8695\n",
            "Epoch 12/20\n",
            "2500/2500 [==============================] - 7s 3ms/step - loss: 0.2534 - accuracy: 0.9262 - val_loss: 0.4445 - val_accuracy: 0.8743\n",
            "Epoch 13/20\n",
            "2500/2500 [==============================] - 6s 2ms/step - loss: 0.2339 - accuracy: 0.9318 - val_loss: 0.4433 - val_accuracy: 0.8748\n",
            "Epoch 14/20\n",
            "2500/2500 [==============================] - 6s 2ms/step - loss: 0.2147 - accuracy: 0.9379 - val_loss: 0.4502 - val_accuracy: 0.8746\n",
            "Epoch 15/20\n",
            "2500/2500 [==============================] - 6s 3ms/step - loss: 0.1970 - accuracy: 0.9430 - val_loss: 0.4672 - val_accuracy: 0.8728\n",
            "Epoch 16/20\n",
            "2500/2500 [==============================] - 6s 2ms/step - loss: 0.1796 - accuracy: 0.9488 - val_loss: 0.4669 - val_accuracy: 0.8742\n",
            "Epoch 17/20\n",
            "2500/2500 [==============================] - 7s 3ms/step - loss: 0.1640 - accuracy: 0.9528 - val_loss: 0.4890 - val_accuracy: 0.8706\n",
            "Epoch 18/20\n",
            "2500/2500 [==============================] - 6s 3ms/step - loss: 0.1485 - accuracy: 0.9574 - val_loss: 0.4886 - val_accuracy: 0.8748\n",
            "Epoch 19/20\n",
            "2500/2500 [==============================] - 6s 2ms/step - loss: 0.1346 - accuracy: 0.9624 - val_loss: 0.5024 - val_accuracy: 0.8770\n",
            "Epoch 20/20\n",
            "2500/2500 [==============================] - 6s 2ms/step - loss: 0.1204 - accuracy: 0.9666 - val_loss: 0.5213 - val_accuracy: 0.8735\n"
          ],
          "name": "stdout"
        }
      ]
    },
    {
      "cell_type": "markdown",
      "metadata": {
        "id": "b0QJURWh-9uv"
      },
      "source": [
        "----\n",
        "### Visualize the results\n",
        "\n",
        "- Move results in `history` in a dataframe \n",
        "- Use [**Seaborn**](https://seaborn.pydata.org/generated/seaborn.lineplot.html) to create lineplots for both loss and accuracy by epoch. \n",
        "- Analyze the results and write a couple of obsverations. \n",
        "\n",
        "At what point should we have stopped training the model and why? "
      ]
    },
    {
      "cell_type": "code",
      "metadata": {
        "deletable": false,
        "id": "ijAlzfYKAFaY",
        "nbgrader": {
          "cell_type": "code",
          "checksum": "6ef8cde40701c2ef57cf853b19455125",
          "grade": false,
          "grade_id": "cell-16e647cfc3291a01",
          "locked": false,
          "schema_version": 3,
          "solution": true,
          "task": false
        },
        "colab": {
          "base_uri": "https://localhost:8080/",
          "height": 663
        },
        "outputId": "31da75df-670e-439d-b796-69eff345af2d"
      },
      "source": [
        "df = pd.DataFrame.from_dict(history.history)\n",
        "df"
      ],
      "execution_count": 75,
      "outputs": [
        {
          "output_type": "execute_result",
          "data": {
            "text/html": [
              "<div>\n",
              "<style scoped>\n",
              "    .dataframe tbody tr th:only-of-type {\n",
              "        vertical-align: middle;\n",
              "    }\n",
              "\n",
              "    .dataframe tbody tr th {\n",
              "        vertical-align: top;\n",
              "    }\n",
              "\n",
              "    .dataframe thead th {\n",
              "        text-align: right;\n",
              "    }\n",
              "</style>\n",
              "<table border=\"1\" class=\"dataframe\">\n",
              "  <thead>\n",
              "    <tr style=\"text-align: right;\">\n",
              "      <th></th>\n",
              "      <th>loss</th>\n",
              "      <th>accuracy</th>\n",
              "      <th>val_loss</th>\n",
              "      <th>val_accuracy</th>\n",
              "    </tr>\n",
              "  </thead>\n",
              "  <tbody>\n",
              "    <tr>\n",
              "      <th>0</th>\n",
              "      <td>0.960835</td>\n",
              "      <td>0.714887</td>\n",
              "      <td>0.726213</td>\n",
              "      <td>0.78785</td>\n",
              "    </tr>\n",
              "    <tr>\n",
              "      <th>1</th>\n",
              "      <td>0.651169</td>\n",
              "      <td>0.810263</td>\n",
              "      <td>0.612849</td>\n",
              "      <td>0.81955</td>\n",
              "    </tr>\n",
              "    <tr>\n",
              "      <th>2</th>\n",
              "      <td>0.556196</td>\n",
              "      <td>0.835300</td>\n",
              "      <td>0.557305</td>\n",
              "      <td>0.83250</td>\n",
              "    </tr>\n",
              "    <tr>\n",
              "      <th>3</th>\n",
              "      <td>0.494838</td>\n",
              "      <td>0.855075</td>\n",
              "      <td>0.513234</td>\n",
              "      <td>0.84605</td>\n",
              "    </tr>\n",
              "    <tr>\n",
              "      <th>4</th>\n",
              "      <td>0.446797</td>\n",
              "      <td>0.868900</td>\n",
              "      <td>0.489581</td>\n",
              "      <td>0.85540</td>\n",
              "    </tr>\n",
              "    <tr>\n",
              "      <th>5</th>\n",
              "      <td>0.407679</td>\n",
              "      <td>0.880413</td>\n",
              "      <td>0.486375</td>\n",
              "      <td>0.85735</td>\n",
              "    </tr>\n",
              "    <tr>\n",
              "      <th>6</th>\n",
              "      <td>0.375495</td>\n",
              "      <td>0.890612</td>\n",
              "      <td>0.460918</td>\n",
              "      <td>0.86330</td>\n",
              "    </tr>\n",
              "    <tr>\n",
              "      <th>7</th>\n",
              "      <td>0.346804</td>\n",
              "      <td>0.898088</td>\n",
              "      <td>0.448438</td>\n",
              "      <td>0.86965</td>\n",
              "    </tr>\n",
              "    <tr>\n",
              "      <th>8</th>\n",
              "      <td>0.321919</td>\n",
              "      <td>0.905575</td>\n",
              "      <td>0.441286</td>\n",
              "      <td>0.87140</td>\n",
              "    </tr>\n",
              "    <tr>\n",
              "      <th>9</th>\n",
              "      <td>0.296590</td>\n",
              "      <td>0.914150</td>\n",
              "      <td>0.437604</td>\n",
              "      <td>0.87200</td>\n",
              "    </tr>\n",
              "    <tr>\n",
              "      <th>10</th>\n",
              "      <td>0.274802</td>\n",
              "      <td>0.919300</td>\n",
              "      <td>0.449360</td>\n",
              "      <td>0.86950</td>\n",
              "    </tr>\n",
              "    <tr>\n",
              "      <th>11</th>\n",
              "      <td>0.253442</td>\n",
              "      <td>0.926162</td>\n",
              "      <td>0.444485</td>\n",
              "      <td>0.87430</td>\n",
              "    </tr>\n",
              "    <tr>\n",
              "      <th>12</th>\n",
              "      <td>0.233909</td>\n",
              "      <td>0.931787</td>\n",
              "      <td>0.443292</td>\n",
              "      <td>0.87480</td>\n",
              "    </tr>\n",
              "    <tr>\n",
              "      <th>13</th>\n",
              "      <td>0.214654</td>\n",
              "      <td>0.937863</td>\n",
              "      <td>0.450247</td>\n",
              "      <td>0.87460</td>\n",
              "    </tr>\n",
              "    <tr>\n",
              "      <th>14</th>\n",
              "      <td>0.197050</td>\n",
              "      <td>0.943038</td>\n",
              "      <td>0.467172</td>\n",
              "      <td>0.87280</td>\n",
              "    </tr>\n",
              "    <tr>\n",
              "      <th>15</th>\n",
              "      <td>0.179591</td>\n",
              "      <td>0.948800</td>\n",
              "      <td>0.466875</td>\n",
              "      <td>0.87420</td>\n",
              "    </tr>\n",
              "    <tr>\n",
              "      <th>16</th>\n",
              "      <td>0.164019</td>\n",
              "      <td>0.952825</td>\n",
              "      <td>0.488978</td>\n",
              "      <td>0.87060</td>\n",
              "    </tr>\n",
              "    <tr>\n",
              "      <th>17</th>\n",
              "      <td>0.148508</td>\n",
              "      <td>0.957450</td>\n",
              "      <td>0.488606</td>\n",
              "      <td>0.87485</td>\n",
              "    </tr>\n",
              "    <tr>\n",
              "      <th>18</th>\n",
              "      <td>0.134633</td>\n",
              "      <td>0.962400</td>\n",
              "      <td>0.502410</td>\n",
              "      <td>0.87695</td>\n",
              "    </tr>\n",
              "    <tr>\n",
              "      <th>19</th>\n",
              "      <td>0.120374</td>\n",
              "      <td>0.966637</td>\n",
              "      <td>0.521296</td>\n",
              "      <td>0.87350</td>\n",
              "    </tr>\n",
              "  </tbody>\n",
              "</table>\n",
              "</div>"
            ],
            "text/plain": [
              "        loss  accuracy  val_loss  val_accuracy\n",
              "0   0.960835  0.714887  0.726213       0.78785\n",
              "1   0.651169  0.810263  0.612849       0.81955\n",
              "2   0.556196  0.835300  0.557305       0.83250\n",
              "3   0.494838  0.855075  0.513234       0.84605\n",
              "4   0.446797  0.868900  0.489581       0.85540\n",
              "5   0.407679  0.880413  0.486375       0.85735\n",
              "6   0.375495  0.890612  0.460918       0.86330\n",
              "7   0.346804  0.898088  0.448438       0.86965\n",
              "8   0.321919  0.905575  0.441286       0.87140\n",
              "9   0.296590  0.914150  0.437604       0.87200\n",
              "10  0.274802  0.919300  0.449360       0.86950\n",
              "11  0.253442  0.926162  0.444485       0.87430\n",
              "12  0.233909  0.931787  0.443292       0.87480\n",
              "13  0.214654  0.937863  0.450247       0.87460\n",
              "14  0.197050  0.943038  0.467172       0.87280\n",
              "15  0.179591  0.948800  0.466875       0.87420\n",
              "16  0.164019  0.952825  0.488978       0.87060\n",
              "17  0.148508  0.957450  0.488606       0.87485\n",
              "18  0.134633  0.962400  0.502410       0.87695\n",
              "19  0.120374  0.966637  0.521296       0.87350"
            ]
          },
          "metadata": {
            "tags": []
          },
          "execution_count": 75
        }
      ]
    },
    {
      "cell_type": "code",
      "metadata": {
        "id": "Je8f1TDAfATc"
      },
      "source": [
        "# a check on our model training\n",
        "assert df.shape[0] == 20, \"df should have the training results from 20 epochs\""
      ],
      "execution_count": 76,
      "outputs": []
    },
    {
      "cell_type": "code",
      "metadata": {
        "deletable": false,
        "nbgrader": {
          "cell_type": "code",
          "checksum": "424d241660318a72ecda935be10485d7",
          "grade": false,
          "grade_id": "cell-96dba18873c4cffc",
          "locked": false,
          "schema_version": 3,
          "solution": true,
          "task": false
        },
        "id": "NK4UH35FfATc",
        "colab": {
          "base_uri": "https://localhost:8080/",
          "height": 368
        },
        "outputId": "19efd465-f5d9-4c1f-ba55-70f3aa5085b4"
      },
      "source": [
        "# use the plotting method in your dataframe to plot the modeling results \n",
        "\n",
        "epochs_sgd = [i for i in range(len(df['loss']))]\n",
        "sns.lineplot(epochs_sgd, df['loss'], label=\"train\")\n",
        "sns.lineplot(epochs_sgd, df['val_loss'], label=\"test\")\n",
        "plt.title('SGD Optimizer Loss Plot')"
      ],
      "execution_count": 87,
      "outputs": [
        {
          "output_type": "stream",
          "text": [
            "/usr/local/lib/python3.7/dist-packages/seaborn/_decorators.py:43: FutureWarning: Pass the following variables as keyword args: x, y. From version 0.12, the only valid positional argument will be `data`, and passing other arguments without an explicit keyword will result in an error or misinterpretation.\n",
            "  FutureWarning\n",
            "/usr/local/lib/python3.7/dist-packages/seaborn/_decorators.py:43: FutureWarning: Pass the following variables as keyword args: x, y. From version 0.12, the only valid positional argument will be `data`, and passing other arguments without an explicit keyword will result in an error or misinterpretation.\n",
            "  FutureWarning\n"
          ],
          "name": "stderr"
        },
        {
          "output_type": "display_data",
          "data": {
            "image/png": "[encoded data removed]",
            "text/plain": [
              "<Figure size 432x288 with 1 Axes>"
            ]
          },
          "metadata": {
            "tags": [],
            "needs_background": "light"
          }
        }
      ]
    },
    {
      "cell_type": "code",
      "metadata": {
        "colab": {
          "base_uri": "https://localhost:8080/",
          "height": 384
        },
        "id": "HM1Pe7cQ5khZ",
        "outputId": "fa8495b4-206b-4db4-a63b-793ba7c4f9be"
      },
      "source": [
        "sns.lineplot(epochs_sgd, df['accuracy'], label=\"train\")\n",
        "sns.lineplot(epochs_sgd, df['val_accuracy'], label=\"test\")\n",
        "plt.title('SGD Optimizer Accuracy Plot')"
      ],
      "execution_count": 88,
      "outputs": [
        {
          "output_type": "stream",
          "text": [
            "/usr/local/lib/python3.7/dist-packages/seaborn/_decorators.py:43: FutureWarning: Pass the following variables as keyword args: x, y. From version 0.12, the only valid positional argument will be `data`, and passing other arguments without an explicit keyword will result in an error or misinterpretation.\n",
            "  FutureWarning\n",
            "/usr/local/lib/python3.7/dist-packages/seaborn/_decorators.py:43: FutureWarning: Pass the following variables as keyword args: x, y. From version 0.12, the only valid positional argument will be `data`, and passing other arguments without an explicit keyword will result in an error or misinterpretation.\n",
            "  FutureWarning\n"
          ],
          "name": "stderr"
        },
        {
          "output_type": "execute_result",
          "data": {
            "text/plain": [
              "Text(0.5, 1.0, 'SGD Optimizer Accuracy Plot')"
            ]
          },
          "metadata": {
            "tags": []
          },
          "execution_count": 88
        },
        {
          "output_type": "display_data",
          "data": {
            "image/png": "[encoded data removed]",
            "text/plain": [
              "<Figure size 432x288 with 1 Axes>"
            ]
          },
          "metadata": {
            "tags": [],
            "needs_background": "light"
          }
        }
      ]
    },
    {
      "cell_type": "markdown",
      "metadata": {
        "id": "AhMrSWXUfATd"
      },
      "source": [
        "### Observations \n",
        "\n",
        "Based on the plot of the training and validation loss answer the following questions. "
      ]
    },
    {
      "cell_type": "markdown",
      "metadata": {
        "id": "QF81qr7EfATd"
      },
      "source": [
        "**Was our model able to learn over the course of the 20 epochs? Why or why not?**"
      ]
    },
    {
      "cell_type": "markdown",
      "metadata": {
        "deletable": false,
        "nbgrader": {
          "cell_type": "markdown",
          "checksum": "b7713eb32ad3a910a58dfdb9494a9db3",
          "grade": true,
          "grade_id": "cell-820990a8232a858a",
          "locked": false,
          "points": 0,
          "schema_version": 3,
          "solution": true,
          "task": false
        },
        "id": "sToA2Di-fATd"
      },
      "source": [
        "Yes, our SGD Optimizer model was able to learn over 20 epochs because it started with a low training accuracy (0.71) and over 20 epochs improved that to a very high accuracy (0.97). Similarly, the validation accuracy started lower (0.78) and over 20 epochs improved to 0.87."
      ]
    },
    {
      "cell_type": "markdown",
      "metadata": {
        "id": "gPcVlzFgfATd"
      },
      "source": [
        "**Is our model overfitting? Why or why not?**"
      ]
    },
    {
      "cell_type": "markdown",
      "metadata": {
        "deletable": false,
        "nbgrader": {
          "cell_type": "markdown",
          "checksum": "1d30c64465cd35081d70578c20ecf96d",
          "grade": true,
          "grade_id": "cell-33868e7ef6e401b5",
          "locked": false,
          "points": 0,
          "schema_version": 3,
          "solution": true,
          "task": false
        },
        "id": "fs1yAAuifATd"
      },
      "source": [
        "The SGD Optimizer model is overfitting but not by a lot (by the 20th epoch). Even though there is continued divergence between the training and validation accuracy, it did not reach the point where the validation accuracy started to reduce."
      ]
    },
    {
      "cell_type": "markdown",
      "metadata": {
        "id": "ro0QfKLqfATe"
      },
      "source": [
        "**Could the model score benefit from additional epochs? Why or why not?**"
      ]
    },
    {
      "cell_type": "markdown",
      "metadata": {
        "deletable": false,
        "nbgrader": {
          "cell_type": "markdown",
          "checksum": "0fc2208e2c78461578fc7a05224066b8",
          "grade": true,
          "grade_id": "cell-5c883f0a3161e469",
          "locked": false,
          "points": 0,
          "schema_version": 3,
          "solution": true,
          "task": false
        },
        "id": "cvsEjIBKfATe"
      },
      "source": [
        "No, because the validation accuracy had already started to flatten by the 20th epoch and any further epochs would have exarcerbated the overfitting and caused the validation accuracy to begin to go down."
      ]
    },
    {
      "cell_type": "markdown",
      "metadata": {
        "id": "MAhBrcE4yOZe"
      },
      "source": [
        "-----\n",
        "## Change Optimizers\n",
        "\n",
        "Let's compare model performance between difference optimizers. \n",
        "- Build a new model, identical as the last one but using `adam` for the optimizer. \n",
        "- Visualize the training results just as we did for the last model. \n",
        "- Save modeling results to adam_history so we don't erase the results from the previous model run"
      ]
    },
    {
      "cell_type": "code",
      "metadata": {
        "deletable": false,
        "id": "jIW_spOZ0cxy",
        "nbgrader": {
          "cell_type": "code",
          "checksum": "6d30d8c6f4521861a77c9ef04dbde904",
          "grade": false,
          "grade_id": "cell-56663c8a5e75b71f",
          "locked": false,
          "schema_version": 3,
          "solution": true,
          "task": false
        }
      },
      "source": [
        "# train same model as above but use sgd if you used adam previously ( or use adam if you used sgd previously)\n",
        "\n",
        "# YOUR CODE HERE\n",
        "# instantiate a sequential object and call it model, then add layers to your model\n",
        "model_adam = Sequential()\n",
        "# Hidden layer # 1\n",
        "model_adam.add(Dense(500, activation='relu', input_dim=input_dim))\n",
        "# Hidden layer # 2\n",
        "model_adam.add(Dense(250, activation='relu'))\n",
        "# Hidden layer # 3\n",
        "model_adam.add(Dense(100, activation='relu'))\n",
        "# Output layer\n",
        "model_adam.add(Dense(10, activation='softmax'))\n",
        "\n",
        "# add a compile layer but don't fit your model yet \n",
        "model_adam.compile(optimizer='adam', loss='sparse_categorical_crossentropy',\n",
        "              metrics='accuracy')\n"
      ],
      "execution_count": 79,
      "outputs": []
    },
    {
      "cell_type": "code",
      "metadata": {
        "colab": {
          "base_uri": "https://localhost:8080/"
        },
        "id": "y5yapNKm9Tih",
        "outputId": "961d1d80-e838-4ca4-c6ea-cb6265bf4c3d"
      },
      "source": [
        "epochs = 20\n",
        "# fit your model and save training resuts to history \n",
        "history_adam = model_adam.fit(X_scaled, y, \n",
        "                    epochs=epochs, \n",
        "                    # test set will be generated within the model\n",
        "                    validation_split=0.2\n",
        "                   )"
      ],
      "execution_count": 80,
      "outputs": [
        {
          "output_type": "stream",
          "text": [
            "Epoch 1/20\n",
            "2500/2500 [==============================] - 7s 3ms/step - loss: 0.5889 - accuracy: 0.8190 - val_loss: 0.4777 - val_accuracy: 0.8539\n",
            "Epoch 2/20\n",
            "2500/2500 [==============================] - 6s 2ms/step - loss: 0.4129 - accuracy: 0.8749 - val_loss: 0.4476 - val_accuracy: 0.8662\n",
            "Epoch 3/20\n",
            "2500/2500 [==============================] - 6s 3ms/step - loss: 0.3422 - accuracy: 0.8943 - val_loss: 0.4241 - val_accuracy: 0.8766\n",
            "Epoch 4/20\n",
            "2500/2500 [==============================] - 6s 2ms/step - loss: 0.2881 - accuracy: 0.9108 - val_loss: 0.4188 - val_accuracy: 0.8814\n",
            "Epoch 5/20\n",
            "2500/2500 [==============================] - 6s 2ms/step - loss: 0.2473 - accuracy: 0.9232 - val_loss: 0.4341 - val_accuracy: 0.8801\n",
            "Epoch 6/20\n",
            "2500/2500 [==============================] - 7s 3ms/step - loss: 0.2099 - accuracy: 0.9335 - val_loss: 0.4615 - val_accuracy: 0.8752\n",
            "Epoch 7/20\n",
            "2500/2500 [==============================] - 6s 3ms/step - loss: 0.1820 - accuracy: 0.9415 - val_loss: 0.5007 - val_accuracy: 0.8781\n",
            "Epoch 8/20\n",
            "2500/2500 [==============================] - 6s 2ms/step - loss: 0.1591 - accuracy: 0.9490 - val_loss: 0.5468 - val_accuracy: 0.8731\n",
            "Epoch 9/20\n",
            "2500/2500 [==============================] - 7s 3ms/step - loss: 0.1379 - accuracy: 0.9556 - val_loss: 0.5695 - val_accuracy: 0.8745\n",
            "Epoch 10/20\n",
            "2500/2500 [==============================] - 7s 3ms/step - loss: 0.1250 - accuracy: 0.9594 - val_loss: 0.6001 - val_accuracy: 0.8744\n",
            "Epoch 11/20\n",
            "2500/2500 [==============================] - 6s 2ms/step - loss: 0.1123 - accuracy: 0.9646 - val_loss: 0.6646 - val_accuracy: 0.8704\n",
            "Epoch 12/20\n",
            "2500/2500 [==============================] - 7s 3ms/step - loss: 0.1029 - accuracy: 0.9669 - val_loss: 0.6884 - val_accuracy: 0.8725\n",
            "Epoch 13/20\n",
            "2500/2500 [==============================] - 6s 2ms/step - loss: 0.0933 - accuracy: 0.9699 - val_loss: 0.7336 - val_accuracy: 0.8725\n",
            "Epoch 14/20\n",
            "2500/2500 [==============================] - 6s 2ms/step - loss: 0.0868 - accuracy: 0.9726 - val_loss: 0.7539 - val_accuracy: 0.8766\n",
            "Epoch 15/20\n",
            "2500/2500 [==============================] - 6s 2ms/step - loss: 0.0815 - accuracy: 0.9738 - val_loss: 0.8032 - val_accuracy: 0.8781\n",
            "Epoch 16/20\n",
            "2500/2500 [==============================] - 6s 3ms/step - loss: 0.0749 - accuracy: 0.9765 - val_loss: 0.8229 - val_accuracy: 0.8737\n",
            "Epoch 17/20\n",
            "2500/2500 [==============================] - 6s 3ms/step - loss: 0.0720 - accuracy: 0.9768 - val_loss: 0.8709 - val_accuracy: 0.8730\n",
            "Epoch 18/20\n",
            "2500/2500 [==============================] - 6s 3ms/step - loss: 0.0678 - accuracy: 0.9786 - val_loss: 0.8908 - val_accuracy: 0.8744\n",
            "Epoch 19/20\n",
            "2500/2500 [==============================] - 7s 3ms/step - loss: 0.0656 - accuracy: 0.9794 - val_loss: 0.8664 - val_accuracy: 0.8734\n",
            "Epoch 20/20\n",
            "2500/2500 [==============================] - 7s 3ms/step - loss: 0.0613 - accuracy: 0.9808 - val_loss: 0.8646 - val_accuracy: 0.8749\n"
          ],
          "name": "stdout"
        }
      ]
    },
    {
      "cell_type": "code",
      "metadata": {
        "id": "VfUJno5ufATe"
      },
      "source": [
        "# a check that we're using the correct optimizer in this model\n",
        "opt_name = model_adam.optimizer.get_config()[\"name\"]\n",
        "assert opt_name == \"Adam\", \"you need to use adam for the optimizer in this model.\""
      ],
      "execution_count": 81,
      "outputs": []
    },
    {
      "cell_type": "code",
      "metadata": {
        "deletable": false,
        "nbgrader": {
          "cell_type": "code",
          "checksum": "1a4c01aa7dbcc832d75b05bffaeaacc8",
          "grade": false,
          "grade_id": "cell-20118d1646215346",
          "locked": false,
          "schema_version": 3,
          "solution": true,
          "task": false
        },
        "id": "QT06ve-RfATe"
      },
      "source": [
        "# YOUR CODE HERE\n",
        "df_adam = pd.DataFrame.from_dict(history_adam.history)"
      ],
      "execution_count": 89,
      "outputs": []
    },
    {
      "cell_type": "code",
      "metadata": {
        "colab": {
          "base_uri": "https://localhost:8080/",
          "height": 384
        },
        "id": "MU6QZEkT-vui",
        "outputId": "3df70884-24d4-406c-f705-f814b67797cf"
      },
      "source": [
        "epochs_adam = [i for i in range(len(df_adam['loss']))]\n",
        "sns.lineplot(epochs_adam, df_adam['loss'], label=\"train\")\n",
        "sns.lineplot(epochs_adam, df_adam['val_loss'], label=\"test\")\n",
        "plt.title('Adam Optimizer Loss Plot')"
      ],
      "execution_count": 90,
      "outputs": [
        {
          "output_type": "stream",
          "text": [
            "/usr/local/lib/python3.7/dist-packages/seaborn/_decorators.py:43: FutureWarning: Pass the following variables as keyword args: x, y. From version 0.12, the only valid positional argument will be `data`, and passing other arguments without an explicit keyword will result in an error or misinterpretation.\n",
            "  FutureWarning\n",
            "/usr/local/lib/python3.7/dist-packages/seaborn/_decorators.py:43: FutureWarning: Pass the following variables as keyword args: x, y. From version 0.12, the only valid positional argument will be `data`, and passing other arguments without an explicit keyword will result in an error or misinterpretation.\n",
            "  FutureWarning\n"
          ],
          "name": "stderr"
        },
        {
          "output_type": "execute_result",
          "data": {
            "text/plain": [
              "Text(0.5, 1.0, 'Adam Optimizer Loss Plot')"
            ]
          },
          "metadata": {
            "tags": []
          },
          "execution_count": 90
        },
        {
          "output_type": "display_data",
          "data": {
            "image/png": "[encoded data removed]",
            "text/plain": [
              "<Figure size 432x288 with 1 Axes>"
            ]
          },
          "metadata": {
            "tags": [],
            "needs_background": "light"
          }
        }
      ]
    },
    {
      "cell_type": "code",
      "metadata": {
        "colab": {
          "base_uri": "https://localhost:8080/",
          "height": 384
        },
        "id": "TZpCMEbU_B9T",
        "outputId": "d06c0813-e811-4a3c-f46b-a4590253f2e6"
      },
      "source": [
        "sns.lineplot(epochs_adam, df_adam['accuracy'], label=\"train\")\n",
        "sns.lineplot(epochs_adam, df_adam['val_accuracy'], label=\"test\")\n",
        "plt.title('Adam Optimizer Accuracy Plot')"
      ],
      "execution_count": 91,
      "outputs": [
        {
          "output_type": "stream",
          "text": [
            "/usr/local/lib/python3.7/dist-packages/seaborn/_decorators.py:43: FutureWarning: Pass the following variables as keyword args: x, y. From version 0.12, the only valid positional argument will be `data`, and passing other arguments without an explicit keyword will result in an error or misinterpretation.\n",
            "  FutureWarning\n",
            "/usr/local/lib/python3.7/dist-packages/seaborn/_decorators.py:43: FutureWarning: Pass the following variables as keyword args: x, y. From version 0.12, the only valid positional argument will be `data`, and passing other arguments without an explicit keyword will result in an error or misinterpretation.\n",
            "  FutureWarning\n"
          ],
          "name": "stderr"
        },
        {
          "output_type": "execute_result",
          "data": {
            "text/plain": [
              "Text(0.5, 1.0, 'Adam Optimizer Accuracy Plot')"
            ]
          },
          "metadata": {
            "tags": []
          },
          "execution_count": 91
        },
        {
          "output_type": "display_data",
          "data": {
            "image/png": "[encoded data removed]",
            "text/plain": [
              "<Figure size 432x288 with 1 Axes>"
            ]
          },
          "metadata": {
            "tags": [],
            "needs_background": "light"
          }
        }
      ]
    },
    {
      "cell_type": "markdown",
      "metadata": {
        "id": "bQwwbkfFfATe"
      },
      "source": [
        "### Observations \n",
        "\n",
        "This plot should look very different from the previous plot. Based on the plot of the training and validation loss answer the following questions. "
      ]
    },
    {
      "cell_type": "markdown",
      "metadata": {
        "id": "iHec-calfATe"
      },
      "source": [
        "**Is our model overfitting? Why or why not?**"
      ]
    },
    {
      "cell_type": "markdown",
      "metadata": {
        "deletable": false,
        "nbgrader": {
          "cell_type": "markdown",
          "checksum": "fa4141497af675d227aa510feb8db732",
          "grade": true,
          "grade_id": "cell-7e524ccac970c33e",
          "locked": false,
          "points": 0,
          "schema_version": 3,
          "solution": true,
          "task": false
        },
        "id": "WYIW0oUpfATf"
      },
      "source": [
        "The Adam Optimizer model is overfitting more than the SGD Optimizer model. It is overfitting because there is a continued divergence between the accuracy of the training data and the validation accuracy. In addition, the validation loss grows (instead of reducing)as more and more epochs are run."
      ]
    },
    {
      "cell_type": "markdown",
      "metadata": {
        "id": "AlNYDJKwfATf"
      },
      "source": [
        "**Could our model's performance improve by training on more than 20 epochs? Why or why not?**"
      ]
    },
    {
      "cell_type": "markdown",
      "metadata": {
        "deletable": false,
        "nbgrader": {
          "cell_type": "markdown",
          "checksum": "ae03b8b897eb5d052590574ab3bba839",
          "grade": true,
          "grade_id": "cell-456c40e885652955",
          "locked": false,
          "points": 0,
          "schema_version": 3,
          "solution": true,
          "task": false
        },
        "id": "20dqmPvmfATf"
      },
      "source": [
        "No, because additional epochs would only overfit the Adam Optimizer further."
      ]
    },
    {
      "cell_type": "markdown",
      "metadata": {
        "id": "rbXFybXifATf"
      },
      "source": [
        "**Assuming that you want to stick to this model architecture, what can you do to avoid overfitting?**"
      ]
    },
    {
      "cell_type": "markdown",
      "metadata": {
        "deletable": false,
        "nbgrader": {
          "cell_type": "markdown",
          "checksum": "9f5a9393314231d3ce253363c1df1223",
          "grade": true,
          "grade_id": "cell-74d7def19c66702b",
          "locked": false,
          "points": 0,
          "schema_version": 3,
          "solution": true,
          "task": false
        },
        "id": "_2ryV22vfATf"
      },
      "source": [
        "Add early stopping to the model or reduce the number of epochs manually."
      ]
    },
    {
      "cell_type": "markdown",
      "metadata": {
        "id": "JS43R51tCPih"
      },
      "source": [
        "# NAdam Optimizer"
      ]
    },
    {
      "cell_type": "code",
      "metadata": {
        "id": "VX0f9fbdCVOV"
      },
      "source": [
        "# instantiate a sequential object and call it model, then add layers to your model\n",
        "model_nadam = Sequential()\n",
        "# Hidden layer # 1\n",
        "model_nadam.add(Dense(500, activation='relu', input_dim=input_dim))\n",
        "# Hidden layer # 2\n",
        "model_nadam.add(Dense(250, activation='relu'))\n",
        "# Hidden layer # 3\n",
        "model_nadam.add(Dense(100, activation='relu'))\n",
        "# Output layer\n",
        "model_nadam.add(Dense(10, activation='softmax'))\n",
        "\n",
        "# add a compile layer but don't fit your model yet \n",
        "model_nadam.compile(optimizer='nadam', loss='sparse_categorical_crossentropy',\n",
        "              metrics='accuracy')\n"
      ],
      "execution_count": 92,
      "outputs": []
    },
    {
      "cell_type": "code",
      "metadata": {
        "colab": {
          "base_uri": "https://localhost:8080/"
        },
        "id": "1ZyJq3o0CcNC",
        "outputId": "c778a410-76b7-47c6-a0e5-56b45e2b6485"
      },
      "source": [
        "epochs = 20\n",
        "# fit your model and save training resuts to history \n",
        "history_nadam = model_nadam.fit(X_scaled, y, \n",
        "                    epochs=epochs, \n",
        "                    # test set will be generated within the model\n",
        "                    validation_split=0.2\n",
        "                   )"
      ],
      "execution_count": 93,
      "outputs": [
        {
          "output_type": "stream",
          "text": [
            "Epoch 1/20\n",
            "2500/2500 [==============================] - 9s 3ms/step - loss: 0.5768 - accuracy: 0.8249 - val_loss: 0.4885 - val_accuracy: 0.8553\n",
            "Epoch 2/20\n",
            "2500/2500 [==============================] - 9s 3ms/step - loss: 0.4066 - accuracy: 0.8769 - val_loss: 0.4301 - val_accuracy: 0.8712\n",
            "Epoch 3/20\n",
            "2500/2500 [==============================] - 8s 3ms/step - loss: 0.3356 - accuracy: 0.8971 - val_loss: 0.4501 - val_accuracy: 0.8691\n",
            "Epoch 4/20\n",
            "2500/2500 [==============================] - 9s 4ms/step - loss: 0.2849 - accuracy: 0.9112 - val_loss: 0.4470 - val_accuracy: 0.8721\n",
            "Epoch 5/20\n",
            "2500/2500 [==============================] - 9s 4ms/step - loss: 0.2436 - accuracy: 0.9239 - val_loss: 0.4796 - val_accuracy: 0.8745\n",
            "Epoch 6/20\n",
            "2500/2500 [==============================] - 9s 3ms/step - loss: 0.2093 - accuracy: 0.9332 - val_loss: 0.4759 - val_accuracy: 0.8781\n",
            "Epoch 7/20\n",
            "2500/2500 [==============================] - 8s 3ms/step - loss: 0.1831 - accuracy: 0.9415 - val_loss: 0.5004 - val_accuracy: 0.8793\n",
            "Epoch 8/20\n",
            "2500/2500 [==============================] - 8s 3ms/step - loss: 0.1596 - accuracy: 0.9493 - val_loss: 0.5458 - val_accuracy: 0.8799\n",
            "Epoch 9/20\n",
            "2500/2500 [==============================] - 9s 3ms/step - loss: 0.1420 - accuracy: 0.9547 - val_loss: 0.5731 - val_accuracy: 0.8796\n",
            "Epoch 10/20\n",
            "2500/2500 [==============================] - 9s 3ms/step - loss: 0.1282 - accuracy: 0.9587 - val_loss: 0.6195 - val_accuracy: 0.8719\n",
            "Epoch 11/20\n",
            "2500/2500 [==============================] - 9s 4ms/step - loss: 0.1161 - accuracy: 0.9627 - val_loss: 0.6643 - val_accuracy: 0.8773\n",
            "Epoch 12/20\n",
            "2500/2500 [==============================] - 9s 4ms/step - loss: 0.1026 - accuracy: 0.9667 - val_loss: 0.7448 - val_accuracy: 0.8704\n",
            "Epoch 13/20\n",
            "2500/2500 [==============================] - 9s 4ms/step - loss: 0.0970 - accuracy: 0.9686 - val_loss: 0.7171 - val_accuracy: 0.8708\n",
            "Epoch 14/20\n",
            "2500/2500 [==============================] - 8s 3ms/step - loss: 0.0874 - accuracy: 0.9718 - val_loss: 0.7512 - val_accuracy: 0.8742\n",
            "Epoch 15/20\n",
            "2500/2500 [==============================] - 8s 3ms/step - loss: 0.0844 - accuracy: 0.9732 - val_loss: 0.7612 - val_accuracy: 0.8742\n",
            "Epoch 16/20\n",
            "2500/2500 [==============================] - 9s 3ms/step - loss: 0.0767 - accuracy: 0.9750 - val_loss: 0.7937 - val_accuracy: 0.8760\n",
            "Epoch 17/20\n",
            "2500/2500 [==============================] - 9s 3ms/step - loss: 0.0741 - accuracy: 0.9766 - val_loss: 0.8209 - val_accuracy: 0.8749\n",
            "Epoch 18/20\n",
            "2500/2500 [==============================] - 9s 3ms/step - loss: 0.0687 - accuracy: 0.9784 - val_loss: 0.8396 - val_accuracy: 0.8761\n",
            "Epoch 19/20\n",
            "2500/2500 [==============================] - 9s 4ms/step - loss: 0.0658 - accuracy: 0.9794 - val_loss: 0.8819 - val_accuracy: 0.8747\n",
            "Epoch 20/20\n",
            "2500/2500 [==============================] - 9s 4ms/step - loss: 0.0633 - accuracy: 0.9801 - val_loss: 0.8990 - val_accuracy: 0.8730\n"
          ],
          "name": "stdout"
        }
      ]
    },
    {
      "cell_type": "code",
      "metadata": {
        "id": "P0rBHBcyCk29"
      },
      "source": [
        "df_nadam = pd.DataFrame.from_dict(history_nadam.history)"
      ],
      "execution_count": 94,
      "outputs": []
    },
    {
      "cell_type": "code",
      "metadata": {
        "colab": {
          "base_uri": "https://localhost:8080/",
          "height": 384
        },
        "id": "7PQPvUoACPBh",
        "outputId": "bad08276-09d5-4d97-d18e-5299befa1839"
      },
      "source": [
        "epochs_nadam = [i for i in range(len(df_nadam['loss']))]\n",
        "sns.lineplot(epochs_nadam, df_nadam['loss'], label=\"train\")\n",
        "sns.lineplot(epochs_nadam, df_adam['val_loss'], label=\"test\")\n",
        "plt.title('NAdam Optimizer Loss Plot')"
      ],
      "execution_count": 95,
      "outputs": [
        {
          "output_type": "stream",
          "text": [
            "/usr/local/lib/python3.7/dist-packages/seaborn/_decorators.py:43: FutureWarning: Pass the following variables as keyword args: x, y. From version 0.12, the only valid positional argument will be `data`, and passing other arguments without an explicit keyword will result in an error or misinterpretation.\n",
            "  FutureWarning\n",
            "/usr/local/lib/python3.7/dist-packages/seaborn/_decorators.py:43: FutureWarning: Pass the following variables as keyword args: x, y. From version 0.12, the only valid positional argument will be `data`, and passing other arguments without an explicit keyword will result in an error or misinterpretation.\n",
            "  FutureWarning\n"
          ],
          "name": "stderr"
        },
        {
          "output_type": "execute_result",
          "data": {
            "text/plain": [
              "Text(0.5, 1.0, 'NAdam Optimizer Loss Plot')"
            ]
          },
          "metadata": {
            "tags": []
          },
          "execution_count": 95
        },
        {
          "output_type": "display_data",
          "data": {
            "image/png": "[encoded data removed]",
            "text/plain": [
              "<Figure size 432x288 with 1 Axes>"
            ]
          },
          "metadata": {
            "tags": [],
            "needs_background": "light"
          }
        }
      ]
    },
    {
      "cell_type": "code",
      "metadata": {
        "colab": {
          "base_uri": "https://localhost:8080/",
          "height": 384
        },
        "id": "auQF7JlCC6Be",
        "outputId": "32d495d3-d2c7-41a7-edac-6fa0170774d4"
      },
      "source": [
        "sns.lineplot(epochs_nadam, df_nadam['accuracy'], label=\"train\")\n",
        "sns.lineplot(epochs_nadam, df_nadam['val_accuracy'], label=\"test\")\n",
        "plt.title('NAdam Optimizer Accuracy Plot')"
      ],
      "execution_count": 96,
      "outputs": [
        {
          "output_type": "stream",
          "text": [
            "/usr/local/lib/python3.7/dist-packages/seaborn/_decorators.py:43: FutureWarning: Pass the following variables as keyword args: x, y. From version 0.12, the only valid positional argument will be `data`, and passing other arguments without an explicit keyword will result in an error or misinterpretation.\n",
            "  FutureWarning\n",
            "/usr/local/lib/python3.7/dist-packages/seaborn/_decorators.py:43: FutureWarning: Pass the following variables as keyword args: x, y. From version 0.12, the only valid positional argument will be `data`, and passing other arguments without an explicit keyword will result in an error or misinterpretation.\n",
            "  FutureWarning\n"
          ],
          "name": "stderr"
        },
        {
          "output_type": "execute_result",
          "data": {
            "text/plain": [
              "Text(0.5, 1.0, 'NAdam Optimizer Accuracy Plot')"
            ]
          },
          "metadata": {
            "tags": []
          },
          "execution_count": 96
        },
        {
          "output_type": "display_data",
          "data": {
            "image/png": "[encoded data removed]",
            "text/plain": [
              "<Figure size 432x288 with 1 Axes>"
            ]
          },
          "metadata": {
            "tags": [],
            "needs_background": "light"
          }
        }
      ]
    },
    {
      "cell_type": "markdown",
      "metadata": {
        "id": "6a-YB9UKDXRZ"
      },
      "source": [
        "### **Mini-Conclusion:** NAdam Optimizer overfits even more than Adam Optimizer"
      ]
    },
    {
      "cell_type": "markdown",
      "metadata": {
        "id": "VGtACi4PfATf"
      },
      "source": [
        "------\n",
        "# Conclusion \n",
        "\n",
        "What you have observed by comparing the two models that are identitical, except for the optimizer, is that the choice of the optimizer can have a very big influence in the training outcome of ML models in general and in a neural networks in particuar. \n",
        "\n",
        "You might not actually know \n",
        "\n",
        "- why changing the optimizer from Stocastic Gradient Descent over to Adam made a difference.\n",
        "- how Gradient Desecent works \n",
        "- or that Adam is known as Adaptive Gradient Descent (i.e. is it a different version of ordinary Gradient Descent). \n",
        "\n",
        "But that's ok - tomorrow's lesson will be a deep dive into Gradient Descent. You'll learn the theory of Gradient Descent, we'll code up Gradient Descent from scratch, and we'll talk about how Adam is different from ordinary Gradient Descent. "
      ]
    },
    {
      "cell_type": "markdown",
      "metadata": {
        "id": "5p3Ez2gdfATf"
      },
      "source": [
        "-----\n",
        "# Preparation for Tomorrow \n",
        "\n",
        "In Preparation for tomorrow, you might need to watch a few videos. I say might because you may or may not already be comfortable with multi-variate calculus. \n",
        "\n",
        "### Theory of Calculus \n",
        "The theory of Gradient Descent rest on [**the derivative from Calculus**](https://www.youtube.com/watch?v=WUvTyaaNkzM). If you've never taken a Calculus course before, or are a bit rusty, definitely watch this video in preparation for tomorrow's lesson. The take away here is to conceptually understand the derivative, you won't be asked to actually calculate any derivatives by hand. \n",
        "\n",
        "### The Gradient - a multi-dimensional derivative\n",
        "Once you've watched the previous video, you are now set up to  understand how to conceptualize a derivative in an N-dimensional space (where N is any number ranging from 2, 3, 4, ..., all the way to a very large number of dimensions N ) [**This video visually explains the multi-dimensional derivative called the Gradient visually**](https://www.youtube.com/watch?v=GkB4vW16QHI) - and that's the take away. This point of this video is to help you understand the Gradient visually using 3D surfaces. You should also know that the Gradient is made of up partial derivatives, more on this tomorrow. \n",
        "\n",
        "### Contour Maps \n",
        "It is very common to visual 3D surfaces as 2D contour maps - and we'll be making a lot of use of contour maps to understand Gradient Descent. Watch this video in order to [**understand the relationship between 3D surfaces and 2D contour maps**](https://www.youtube.com/watch?v=acdX4YamDtU)\n",
        "\n",
        "### The Calculus of Backpropagation \n",
        "\n",
        "Unlike standard Sklearn ML models, neural networks use not just Gradient Descent but also something called Backpropagatin in order to learn from the data. [**In order to understand how backpropagation works, you need to understand the Chain Rule in Calculus**](https://www.youtube.com/watch?v=acdX4YamDtU). The take away here is to understand how a partial derivative can be decomposed into a product of multiple derivatives. "
      ]
    },
    {
      "cell_type": "markdown",
      "metadata": {
        "id": "UGF2ZtySfATg"
      },
      "source": [
        "------\n",
        "# Stretch Goals\n",
        "\n",
        "### This section is optional!\n",
        "\n",
        "Only after you've completed the above work and watched the recommended videos, are you then encouraged to experiment with building a few more models and analyze their results. \n",
        "\n",
        "Here are some suggestions to help you get started. \n",
        "\n",
        "- Train the same model using the Sigmoid activation fucntion and the Relu activation function and note the difference in their learning outcomes.  [**Keras docs on activation fucntions**](https://keras.io/api/layers/activations/). We'll cover the Relu activation function in Sprint 2 Module 3.\n",
        "- Train the same model using Normalized and non-Normalized data and note the difference in their learning outcomes. \n",
        "\n",
        "\n",
        "The objective here is to give you an oppertunity to get more practice with the Keras API (i.e. building models) and running a couple of experiments to help set you up for future lessons. In order words, we'll be discussing different activation functions and the affect of Normalized data on model training. "
      ]
    },
    {
      "cell_type": "code",
      "metadata": {
        "id": "hgjC8PRdfATg"
      },
      "source": [
        ""
      ],
      "execution_count": null,
      "outputs": []
    },
    {
      "cell_type": "code",
      "metadata": {
        "id": "4bJuD5EtfATg"
      },
      "source": [
        ""
      ],
      "execution_count": null,
      "outputs": []
    }
  ]
}